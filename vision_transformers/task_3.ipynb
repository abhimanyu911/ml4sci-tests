{
 "cells": [
  {
   "attachments": {},
   "cell_type": "markdown",
   "metadata": {},
   "source": [
    "# ViT for Electron Photon Classification"
   ]
  },
  {
   "attachments": {},
   "cell_type": "markdown",
   "metadata": {},
   "source": [
    "## Import libraries"
   ]
  },
  {
   "cell_type": "code",
   "execution_count": 1,
   "metadata": {},
   "outputs": [],
   "source": [
    "from configs import *\n",
    "import tensorflow as tf"
   ]
  },
  {
   "attachments": {},
   "cell_type": "markdown",
   "metadata": {},
   "source": [
    "## Construct data loaders"
   ]
  },
  {
   "cell_type": "code",
   "execution_count": 2,
   "metadata": {},
   "outputs": [],
   "source": [
    "electron_features, electron_labels = get_features_and_labels(file_dir = electron_dir)\n",
    "photon_features, photon_labels = get_features_and_labels(file_dir = photon_dir)\n",
    "features = np.concatenate((electron_features,photon_features), axis = 0)\n",
    "labels = np.concatenate((electron_labels,photon_labels), axis = 0)"
   ]
  },
  {
   "cell_type": "code",
   "execution_count": 3,
   "metadata": {},
   "outputs": [],
   "source": [
    "features, labels = shuffle(features, labels, random_state=42)"
   ]
  },
  {
   "cell_type": "code",
   "execution_count": 4,
   "metadata": {},
   "outputs": [
    {
     "name": "stdout",
     "output_type": "stream",
     "text": [
      "(473100, 32, 32, 2)\n",
      "(473100,)\n",
      "(12450, 32, 32, 2)\n",
      "(12450,)\n",
      "(12450, 32, 32, 2)\n",
      "(12450,)\n"
     ]
    }
   ],
   "source": [
    "X_train, X_test_and_val, y_train, y_test_and_val = train_test_split(\n",
    "    features,\n",
    "    labels,\n",
    "    test_size = 0.05,\n",
    "    random_state=42\n",
    ")\n",
    "X_test, X_val, y_test, y_val = train_test_split(\n",
    "    X_test_and_val, \n",
    "    y_test_and_val, \n",
    "    test_size=0.5, \n",
    "    random_state=42\n",
    ")\n",
    "print(X_train.shape)\n",
    "print(y_train.shape)\n",
    "print(X_val.shape)\n",
    "print(y_val.shape)\n",
    "print(X_test.shape)\n",
    "print(y_test.shape)"
   ]
  },
  {
   "cell_type": "code",
   "execution_count": 5,
   "metadata": {},
   "outputs": [],
   "source": [
    "train_loader = get_torch_data_loader(X_train, y_train, batch_size=batch_size, shuffle=True)\n",
    "val_loader = get_torch_data_loader(X_val, y_val, batch_size=batch_size, shuffle=False)"
   ]
  },
  {
   "attachments": {},
   "cell_type": "markdown",
   "metadata": {},
   "source": [
    "## Define model"
   ]
  },
  {
   "attachments": {},
   "cell_type": "markdown",
   "metadata": {},
   "source": [
    "### We are using the [vit-pytorch](https://github.com/lucidrains/vit-pytorch) library."
   ]
  },
  {
   "cell_type": "code",
   "execution_count": 6,
   "metadata": {},
   "outputs": [
    {
     "name": "stdout",
     "output_type": "stream",
     "text": [
      "ViT(\n",
      "  (to_patch_embedding): Sequential(\n",
      "    (0): Rearrange('b c (h p1) (w p2) -> b (h w) (p1 p2 c)', p1=8, p2=8)\n",
      "    (1): LayerNorm((128,), eps=1e-05, elementwise_affine=True)\n",
      "    (2): Linear(in_features=128, out_features=64, bias=True)\n",
      "    (3): LayerNorm((64,), eps=1e-05, elementwise_affine=True)\n",
      "  )\n",
      "  (dropout): Dropout(p=0.0, inplace=False)\n",
      "  (transformer): Transformer(\n",
      "    (layers): ModuleList(\n",
      "      (0-7): 8 x ModuleList(\n",
      "        (0): PreNorm(\n",
      "          (norm): LayerNorm((64,), eps=1e-05, elementwise_affine=True)\n",
      "          (fn): Attention(\n",
      "            (attend): Softmax(dim=-1)\n",
      "            (dropout): Dropout(p=0.0, inplace=False)\n",
      "            (to_qkv): Linear(in_features=64, out_features=1920, bias=False)\n",
      "            (to_out): Sequential(\n",
      "              (0): Linear(in_features=640, out_features=64, bias=True)\n",
      "              (1): Dropout(p=0.0, inplace=False)\n",
      "            )\n",
      "          )\n",
      "        )\n",
      "        (1): PreNorm(\n",
      "          (norm): LayerNorm((64,), eps=1e-05, elementwise_affine=True)\n",
      "          (fn): FeedForward(\n",
      "            (net): Sequential(\n",
      "              (0): Linear(in_features=64, out_features=128, bias=True)\n",
      "              (1): GELU(approximate='none')\n",
      "              (2): Dropout(p=0.0, inplace=False)\n",
      "              (3): Linear(in_features=128, out_features=64, bias=True)\n",
      "              (4): Dropout(p=0.0, inplace=False)\n",
      "            )\n",
      "          )\n",
      "        )\n",
      "      )\n",
      "    )\n",
      "  )\n",
      "  (to_latent): Identity()\n",
      "  (mlp_head): Sequential(\n",
      "    (0): LayerNorm((64,), eps=1e-05, elementwise_affine=True)\n",
      "    (1): Linear(in_features=64, out_features=1, bias=True)\n",
      "  )\n",
      ")\n"
     ]
    }
   ],
   "source": [
    "model = vit_pytorch.ViT(\n",
    "    image_size=32, \n",
    "    patch_size=8, \n",
    "    num_classes=1, \n",
    "    channels=2,\n",
    "    dim=64, \n",
    "    depth=8, \n",
    "    heads=10, \n",
    "    mlp_dim=128\n",
    ")\n",
    "print(model)"
   ]
  },
  {
   "attachments": {},
   "cell_type": "markdown",
   "metadata": {},
   "source": [
    "## Define model class for Pytorch Lightning"
   ]
  },
  {
   "cell_type": "code",
   "execution_count": 7,
   "metadata": {},
   "outputs": [],
   "source": [
    "class ParticleClassifierLightning(pl.LightningModule):\n",
    "  def __init__(self):\n",
    "    super(ParticleClassifierLightning, self).__init__()\n",
    "    self.model = model\n",
    "    self.loss = nn.BCELoss()\n",
    "\n",
    "  def forward(self, x):\n",
    "    return F.sigmoid(self.model(x))\n",
    "\n",
    "  def training_step(self, batch, batch_idx):\n",
    "    x, y = batch\n",
    "    y_hat = self(x).squeeze()\n",
    "    loss = self.loss(y_hat, y)\n",
    "    auc = roc_auc_score(y.detach().cpu().numpy(), y_hat.detach().cpu().numpy())\n",
    "    self.log(\"train_loss\", loss, on_step = False, on_epoch = True, prog_bar = True)\n",
    "    self.log(\"train_auc\", auc, on_step = False, on_epoch = True, prog_bar = True)\n",
    "    return loss\n",
    "\n",
    "  def validation_step(self, batch, batch_idx):\n",
    "    x, y = batch\n",
    "    y_hat = self(x).squeeze()\n",
    "    loss = self.loss(y_hat, y)\n",
    "    auc = roc_auc_score(y.detach().cpu().numpy(), y_hat.detach().cpu().numpy())\n",
    "    self.log(\"val_loss\", loss, on_step = False, on_epoch = True, prog_bar = True)\n",
    "    self.log(\"val_auc\", auc, on_step = False, on_epoch = True, prog_bar = True)\n",
    "    return loss\n",
    "\n",
    "  def configure_optimizers(self):\n",
    "    optimizer = torch.optim.Adam(self.parameters(), lr=learning_rate)\n",
    "    return [optimizer]\n",
    "  \n"
   ]
  },
  {
   "attachments": {},
   "cell_type": "markdown",
   "metadata": {},
   "source": [
    "## Train model"
   ]
  },
  {
   "cell_type": "code",
   "execution_count": 8,
   "metadata": {},
   "outputs": [
    {
     "name": "stderr",
     "output_type": "stream",
     "text": [
      "GPU available: True (cuda), used: True\n",
      "TPU available: False, using: 0 TPU cores\n",
      "IPU available: False, using: 0 IPUs\n",
      "HPU available: False, using: 0 HPUs\n",
      "c:\\Users\\abhim\\anaconda3\\lib\\site-packages\\pytorch_lightning\\callbacks\\model_checkpoint.py:612: UserWarning: Checkpoint directory C:\\Users\\abhim\\ml4sci-tests\\vision_transformers\\weights exists and is not empty.\n",
      "  rank_zero_warn(f\"Checkpoint directory {dirpath} exists and is not empty.\")\n",
      "LOCAL_RANK: 0 - CUDA_VISIBLE_DEVICES: [0]\n",
      "\n",
      "  | Name  | Type    | Params\n",
      "----------------------------------\n",
      "0 | model | ViT     | 1.5 M \n",
      "1 | loss  | BCELoss | 0     \n",
      "----------------------------------\n",
      "1.5 M     Trainable params\n",
      "0         Non-trainable params\n",
      "1.5 M     Total params\n",
      "5.823     Total estimated model params size (MB)\n",
      "c:\\Users\\abhim\\anaconda3\\lib\\site-packages\\lightning_fabric\\loggers\\csv_logs.py:188: UserWarning: Experiment logs directory ./logs\\lightning_logs\\version_0 exists and is not empty. Previous log files in this directory will be deleted when the new ones are saved!\n",
      "  rank_zero_warn(\n"
     ]
    },
    {
     "data": {
      "application/vnd.jupyter.widget-view+json": {
       "model_id": "fc83ff66b88b43008bb819fa786653d0",
       "version_major": 2,
       "version_minor": 0
      },
      "text/plain": [
       "Sanity Checking: 0it [00:00, ?it/s]"
      ]
     },
     "metadata": {},
     "output_type": "display_data"
    },
    {
     "name": "stderr",
     "output_type": "stream",
     "text": [
      "c:\\Users\\abhim\\anaconda3\\lib\\site-packages\\pytorch_lightning\\trainer\\connectors\\data_connector.py:430: PossibleUserWarning: The dataloader, val_dataloader, does not have many workers which may be a bottleneck. Consider increasing the value of the `num_workers` argument` (try 12 which is the number of cpus on this machine) in the `DataLoader` init to improve performance.\n",
      "  rank_zero_warn(\n",
      "c:\\Users\\abhim\\anaconda3\\lib\\site-packages\\pytorch_lightning\\trainer\\connectors\\data_connector.py:430: PossibleUserWarning: The dataloader, train_dataloader, does not have many workers which may be a bottleneck. Consider increasing the value of the `num_workers` argument` (try 12 which is the number of cpus on this machine) in the `DataLoader` init to improve performance.\n",
      "  rank_zero_warn(\n"
     ]
    },
    {
     "data": {
      "application/vnd.jupyter.widget-view+json": {
       "model_id": "02253298ec5f4f31984ce455b3b6488e",
       "version_major": 2,
       "version_minor": 0
      },
      "text/plain": [
       "Training: 0it [00:00, ?it/s]"
      ]
     },
     "metadata": {},
     "output_type": "display_data"
    },
    {
     "data": {
      "application/vnd.jupyter.widget-view+json": {
       "model_id": "ae28b4243a13468988c9296273292608",
       "version_major": 2,
       "version_minor": 0
      },
      "text/plain": [
       "Validation: 0it [00:00, ?it/s]"
      ]
     },
     "metadata": {},
     "output_type": "display_data"
    },
    {
     "name": "stderr",
     "output_type": "stream",
     "text": [
      "Epoch 0, global step 7393: 'val_auc' reached 0.72271 (best 0.72271), saving model to 'C:\\\\Users\\\\abhim\\\\ml4sci-tests\\\\vision_transformers\\\\weights\\\\best_weights-v10.ckpt' as top 1\n"
     ]
    },
    {
     "data": {
      "application/vnd.jupyter.widget-view+json": {
       "model_id": "b5f41cea40404a8ba4f174b300990ed2",
       "version_major": 2,
       "version_minor": 0
      },
      "text/plain": [
       "Validation: 0it [00:00, ?it/s]"
      ]
     },
     "metadata": {},
     "output_type": "display_data"
    },
    {
     "name": "stderr",
     "output_type": "stream",
     "text": [
      "Epoch 1, global step 14786: 'val_auc' reached 0.73088 (best 0.73088), saving model to 'C:\\\\Users\\\\abhim\\\\ml4sci-tests\\\\vision_transformers\\\\weights\\\\best_weights-v10.ckpt' as top 1\n"
     ]
    },
    {
     "data": {
      "application/vnd.jupyter.widget-view+json": {
       "model_id": "0e5e274f17c7496bbcffc19bf1f55ef0",
       "version_major": 2,
       "version_minor": 0
      },
      "text/plain": [
       "Validation: 0it [00:00, ?it/s]"
      ]
     },
     "metadata": {},
     "output_type": "display_data"
    },
    {
     "name": "stderr",
     "output_type": "stream",
     "text": [
      "Epoch 2, global step 22179: 'val_auc' reached 0.74202 (best 0.74202), saving model to 'C:\\\\Users\\\\abhim\\\\ml4sci-tests\\\\vision_transformers\\\\weights\\\\best_weights-v10.ckpt' as top 1\n"
     ]
    },
    {
     "data": {
      "application/vnd.jupyter.widget-view+json": {
       "model_id": "82aa32f5500549e7a4bad3e17bed4f92",
       "version_major": 2,
       "version_minor": 0
      },
      "text/plain": [
       "Validation: 0it [00:00, ?it/s]"
      ]
     },
     "metadata": {},
     "output_type": "display_data"
    },
    {
     "name": "stderr",
     "output_type": "stream",
     "text": [
      "Epoch 3, global step 29572: 'val_auc' was not in top 1\n"
     ]
    },
    {
     "data": {
      "application/vnd.jupyter.widget-view+json": {
       "model_id": "55d362a179f046708626277445c39177",
       "version_major": 2,
       "version_minor": 0
      },
      "text/plain": [
       "Validation: 0it [00:00, ?it/s]"
      ]
     },
     "metadata": {},
     "output_type": "display_data"
    },
    {
     "name": "stderr",
     "output_type": "stream",
     "text": [
      "Epoch 4, global step 36965: 'val_auc' reached 0.74544 (best 0.74544), saving model to 'C:\\\\Users\\\\abhim\\\\ml4sci-tests\\\\vision_transformers\\\\weights\\\\best_weights-v10.ckpt' as top 1\n"
     ]
    },
    {
     "data": {
      "application/vnd.jupyter.widget-view+json": {
       "model_id": "ce87ab75e0084811a6f9c5906470564a",
       "version_major": 2,
       "version_minor": 0
      },
      "text/plain": [
       "Validation: 0it [00:00, ?it/s]"
      ]
     },
     "metadata": {},
     "output_type": "display_data"
    },
    {
     "name": "stderr",
     "output_type": "stream",
     "text": [
      "Epoch 5, global step 44358: 'val_auc' was not in top 1\n"
     ]
    },
    {
     "data": {
      "application/vnd.jupyter.widget-view+json": {
       "model_id": "1322b093344446be8d9220dfb9d1448c",
       "version_major": 2,
       "version_minor": 0
      },
      "text/plain": [
       "Validation: 0it [00:00, ?it/s]"
      ]
     },
     "metadata": {},
     "output_type": "display_data"
    },
    {
     "name": "stderr",
     "output_type": "stream",
     "text": [
      "Epoch 6, global step 51751: 'val_auc' reached 0.75245 (best 0.75245), saving model to 'C:\\\\Users\\\\abhim\\\\ml4sci-tests\\\\vision_transformers\\\\weights\\\\best_weights-v10.ckpt' as top 1\n"
     ]
    },
    {
     "data": {
      "application/vnd.jupyter.widget-view+json": {
       "model_id": "3491f6a5ad9e4fcf96f79a46ae1c2fb0",
       "version_major": 2,
       "version_minor": 0
      },
      "text/plain": [
       "Validation: 0it [00:00, ?it/s]"
      ]
     },
     "metadata": {},
     "output_type": "display_data"
    },
    {
     "name": "stderr",
     "output_type": "stream",
     "text": [
      "Epoch 7, global step 59144: 'val_auc' was not in top 1\n"
     ]
    },
    {
     "data": {
      "application/vnd.jupyter.widget-view+json": {
       "model_id": "8e8e75d0cd2c429a930f4a2293a6d174",
       "version_major": 2,
       "version_minor": 0
      },
      "text/plain": [
       "Validation: 0it [00:00, ?it/s]"
      ]
     },
     "metadata": {},
     "output_type": "display_data"
    },
    {
     "name": "stderr",
     "output_type": "stream",
     "text": [
      "Epoch 8, global step 66537: 'val_auc' reached 0.75777 (best 0.75777), saving model to 'C:\\\\Users\\\\abhim\\\\ml4sci-tests\\\\vision_transformers\\\\weights\\\\best_weights-v10.ckpt' as top 1\n"
     ]
    },
    {
     "data": {
      "application/vnd.jupyter.widget-view+json": {
       "model_id": "33e6b3c5045740aeae3b6863bbf42199",
       "version_major": 2,
       "version_minor": 0
      },
      "text/plain": [
       "Validation: 0it [00:00, ?it/s]"
      ]
     },
     "metadata": {},
     "output_type": "display_data"
    },
    {
     "name": "stderr",
     "output_type": "stream",
     "text": [
      "Epoch 9, global step 73930: 'val_auc' reached 0.75899 (best 0.75899), saving model to 'C:\\\\Users\\\\abhim\\\\ml4sci-tests\\\\vision_transformers\\\\weights\\\\best_weights-v10.ckpt' as top 1\n"
     ]
    },
    {
     "data": {
      "application/vnd.jupyter.widget-view+json": {
       "model_id": "c6f3a50a4a1644199b2d7e7864d342b2",
       "version_major": 2,
       "version_minor": 0
      },
      "text/plain": [
       "Validation: 0it [00:00, ?it/s]"
      ]
     },
     "metadata": {},
     "output_type": "display_data"
    },
    {
     "name": "stderr",
     "output_type": "stream",
     "text": [
      "Epoch 10, global step 81323: 'val_auc' reached 0.76247 (best 0.76247), saving model to 'C:\\\\Users\\\\abhim\\\\ml4sci-tests\\\\vision_transformers\\\\weights\\\\best_weights-v10.ckpt' as top 1\n"
     ]
    },
    {
     "data": {
      "application/vnd.jupyter.widget-view+json": {
       "model_id": "97a108883e20443493182637564e4bf1",
       "version_major": 2,
       "version_minor": 0
      },
      "text/plain": [
       "Validation: 0it [00:00, ?it/s]"
      ]
     },
     "metadata": {},
     "output_type": "display_data"
    },
    {
     "name": "stderr",
     "output_type": "stream",
     "text": [
      "Epoch 11, global step 88716: 'val_auc' reached 0.76337 (best 0.76337), saving model to 'C:\\\\Users\\\\abhim\\\\ml4sci-tests\\\\vision_transformers\\\\weights\\\\best_weights-v10.ckpt' as top 1\n"
     ]
    },
    {
     "data": {
      "application/vnd.jupyter.widget-view+json": {
       "model_id": "40e6070e4b72442ba1f3b9a8d481f5e0",
       "version_major": 2,
       "version_minor": 0
      },
      "text/plain": [
       "Validation: 0it [00:00, ?it/s]"
      ]
     },
     "metadata": {},
     "output_type": "display_data"
    },
    {
     "name": "stderr",
     "output_type": "stream",
     "text": [
      "Epoch 12, global step 96109: 'val_auc' reached 0.76556 (best 0.76556), saving model to 'C:\\\\Users\\\\abhim\\\\ml4sci-tests\\\\vision_transformers\\\\weights\\\\best_weights-v10.ckpt' as top 1\n"
     ]
    },
    {
     "data": {
      "application/vnd.jupyter.widget-view+json": {
       "model_id": "0b64820d53a542579dfc463b86bf8c12",
       "version_major": 2,
       "version_minor": 0
      },
      "text/plain": [
       "Validation: 0it [00:00, ?it/s]"
      ]
     },
     "metadata": {},
     "output_type": "display_data"
    },
    {
     "name": "stderr",
     "output_type": "stream",
     "text": [
      "Epoch 13, global step 103502: 'val_auc' was not in top 1\n"
     ]
    },
    {
     "data": {
      "application/vnd.jupyter.widget-view+json": {
       "model_id": "0f869aae706c49c38a4ea0939dfaf157",
       "version_major": 2,
       "version_minor": 0
      },
      "text/plain": [
       "Validation: 0it [00:00, ?it/s]"
      ]
     },
     "metadata": {},
     "output_type": "display_data"
    },
    {
     "name": "stderr",
     "output_type": "stream",
     "text": [
      "Epoch 14, global step 110895: 'val_auc' reached 0.76797 (best 0.76797), saving model to 'C:\\\\Users\\\\abhim\\\\ml4sci-tests\\\\vision_transformers\\\\weights\\\\best_weights-v10.ckpt' as top 1\n"
     ]
    },
    {
     "data": {
      "application/vnd.jupyter.widget-view+json": {
       "model_id": "97c6529d96ba4d5bb4dce27158720a92",
       "version_major": 2,
       "version_minor": 0
      },
      "text/plain": [
       "Validation: 0it [00:00, ?it/s]"
      ]
     },
     "metadata": {},
     "output_type": "display_data"
    },
    {
     "name": "stderr",
     "output_type": "stream",
     "text": [
      "Epoch 15, global step 118288: 'val_auc' was not in top 1\n"
     ]
    },
    {
     "data": {
      "application/vnd.jupyter.widget-view+json": {
       "model_id": "158360d62e9148fc9462f77f63dca13e",
       "version_major": 2,
       "version_minor": 0
      },
      "text/plain": [
       "Validation: 0it [00:00, ?it/s]"
      ]
     },
     "metadata": {},
     "output_type": "display_data"
    },
    {
     "name": "stderr",
     "output_type": "stream",
     "text": [
      "Epoch 16, global step 125681: 'val_auc' reached 0.76936 (best 0.76936), saving model to 'C:\\\\Users\\\\abhim\\\\ml4sci-tests\\\\vision_transformers\\\\weights\\\\best_weights-v10.ckpt' as top 1\n"
     ]
    },
    {
     "data": {
      "application/vnd.jupyter.widget-view+json": {
       "model_id": "5bb11e3f7f8c47859aafde10783ade04",
       "version_major": 2,
       "version_minor": 0
      },
      "text/plain": [
       "Validation: 0it [00:00, ?it/s]"
      ]
     },
     "metadata": {},
     "output_type": "display_data"
    },
    {
     "name": "stderr",
     "output_type": "stream",
     "text": [
      "Epoch 17, global step 133074: 'val_auc' was not in top 1\n"
     ]
    },
    {
     "data": {
      "application/vnd.jupyter.widget-view+json": {
       "model_id": "05421771b1aa4ef88f2edec1eb70c8fc",
       "version_major": 2,
       "version_minor": 0
      },
      "text/plain": [
       "Validation: 0it [00:00, ?it/s]"
      ]
     },
     "metadata": {},
     "output_type": "display_data"
    },
    {
     "name": "stderr",
     "output_type": "stream",
     "text": [
      "Epoch 18, global step 140467: 'val_auc' was not in top 1\n"
     ]
    },
    {
     "data": {
      "application/vnd.jupyter.widget-view+json": {
       "model_id": "1ca51c348ff44601aef36f3ee8e81331",
       "version_major": 2,
       "version_minor": 0
      },
      "text/plain": [
       "Validation: 0it [00:00, ?it/s]"
      ]
     },
     "metadata": {},
     "output_type": "display_data"
    },
    {
     "name": "stderr",
     "output_type": "stream",
     "text": [
      "Epoch 19, global step 147860: 'val_auc' was not in top 1\n"
     ]
    },
    {
     "data": {
      "application/vnd.jupyter.widget-view+json": {
       "model_id": "9ad9edb7a47e4d198de4e769498460c5",
       "version_major": 2,
       "version_minor": 0
      },
      "text/plain": [
       "Validation: 0it [00:00, ?it/s]"
      ]
     },
     "metadata": {},
     "output_type": "display_data"
    },
    {
     "name": "stderr",
     "output_type": "stream",
     "text": [
      "Epoch 20, global step 155253: 'val_auc' reached 0.76992 (best 0.76992), saving model to 'C:\\\\Users\\\\abhim\\\\ml4sci-tests\\\\vision_transformers\\\\weights\\\\best_weights-v10.ckpt' as top 1\n"
     ]
    },
    {
     "data": {
      "application/vnd.jupyter.widget-view+json": {
       "model_id": "e18d0b2c0b4c4088a5cb66b5171fa434",
       "version_major": 2,
       "version_minor": 0
      },
      "text/plain": [
       "Validation: 0it [00:00, ?it/s]"
      ]
     },
     "metadata": {},
     "output_type": "display_data"
    },
    {
     "name": "stderr",
     "output_type": "stream",
     "text": [
      "Epoch 21, global step 162646: 'val_auc' reached 0.77046 (best 0.77046), saving model to 'C:\\\\Users\\\\abhim\\\\ml4sci-tests\\\\vision_transformers\\\\weights\\\\best_weights-v10.ckpt' as top 1\n"
     ]
    },
    {
     "data": {
      "application/vnd.jupyter.widget-view+json": {
       "model_id": "dbea93e6a3cd47188d8908f89d0f22f1",
       "version_major": 2,
       "version_minor": 0
      },
      "text/plain": [
       "Validation: 0it [00:00, ?it/s]"
      ]
     },
     "metadata": {},
     "output_type": "display_data"
    },
    {
     "name": "stderr",
     "output_type": "stream",
     "text": [
      "Epoch 22, global step 170039: 'val_auc' reached 0.77410 (best 0.77410), saving model to 'C:\\\\Users\\\\abhim\\\\ml4sci-tests\\\\vision_transformers\\\\weights\\\\best_weights-v10.ckpt' as top 1\n"
     ]
    },
    {
     "data": {
      "application/vnd.jupyter.widget-view+json": {
       "model_id": "bbafd19cac24415f90237946845f4b9d",
       "version_major": 2,
       "version_minor": 0
      },
      "text/plain": [
       "Validation: 0it [00:00, ?it/s]"
      ]
     },
     "metadata": {},
     "output_type": "display_data"
    },
    {
     "name": "stderr",
     "output_type": "stream",
     "text": [
      "Epoch 23, global step 177432: 'val_auc' was not in top 1\n"
     ]
    },
    {
     "data": {
      "application/vnd.jupyter.widget-view+json": {
       "model_id": "2017a9c66a9e4dde870a5b234eba33e4",
       "version_major": 2,
       "version_minor": 0
      },
      "text/plain": [
       "Validation: 0it [00:00, ?it/s]"
      ]
     },
     "metadata": {},
     "output_type": "display_data"
    },
    {
     "name": "stderr",
     "output_type": "stream",
     "text": [
      "Epoch 24, global step 184825: 'val_auc' was not in top 1\n"
     ]
    },
    {
     "data": {
      "application/vnd.jupyter.widget-view+json": {
       "model_id": "8a2f45c91abd4e329aceb53321e48e26",
       "version_major": 2,
       "version_minor": 0
      },
      "text/plain": [
       "Validation: 0it [00:00, ?it/s]"
      ]
     },
     "metadata": {},
     "output_type": "display_data"
    },
    {
     "name": "stderr",
     "output_type": "stream",
     "text": [
      "Epoch 25, global step 192218: 'val_auc' was not in top 1\n"
     ]
    },
    {
     "data": {
      "application/vnd.jupyter.widget-view+json": {
       "model_id": "17944c98a09e46f183f3fdbd93a7ca99",
       "version_major": 2,
       "version_minor": 0
      },
      "text/plain": [
       "Validation: 0it [00:00, ?it/s]"
      ]
     },
     "metadata": {},
     "output_type": "display_data"
    },
    {
     "name": "stderr",
     "output_type": "stream",
     "text": [
      "Epoch 26, global step 199611: 'val_auc' reached 0.77465 (best 0.77465), saving model to 'C:\\\\Users\\\\abhim\\\\ml4sci-tests\\\\vision_transformers\\\\weights\\\\best_weights-v10.ckpt' as top 1\n"
     ]
    },
    {
     "data": {
      "application/vnd.jupyter.widget-view+json": {
       "model_id": "7d5905c5677c4cdb895a5364dd8587ff",
       "version_major": 2,
       "version_minor": 0
      },
      "text/plain": [
       "Validation: 0it [00:00, ?it/s]"
      ]
     },
     "metadata": {},
     "output_type": "display_data"
    },
    {
     "name": "stderr",
     "output_type": "stream",
     "text": [
      "Epoch 27, global step 207004: 'val_auc' was not in top 1\n"
     ]
    },
    {
     "data": {
      "application/vnd.jupyter.widget-view+json": {
       "model_id": "48215ff3a7ae4696a383ebb7f2332dbf",
       "version_major": 2,
       "version_minor": 0
      },
      "text/plain": [
       "Validation: 0it [00:00, ?it/s]"
      ]
     },
     "metadata": {},
     "output_type": "display_data"
    },
    {
     "name": "stderr",
     "output_type": "stream",
     "text": [
      "Epoch 28, global step 214397: 'val_auc' was not in top 1\n"
     ]
    },
    {
     "data": {
      "application/vnd.jupyter.widget-view+json": {
       "model_id": "db1d49266d0c48afb15e560ea936b5a5",
       "version_major": 2,
       "version_minor": 0
      },
      "text/plain": [
       "Validation: 0it [00:00, ?it/s]"
      ]
     },
     "metadata": {},
     "output_type": "display_data"
    },
    {
     "name": "stderr",
     "output_type": "stream",
     "text": [
      "Epoch 29, global step 221790: 'val_auc' was not in top 1\n"
     ]
    },
    {
     "data": {
      "application/vnd.jupyter.widget-view+json": {
       "model_id": "9d75aedc4a744687939a1e2a65d24459",
       "version_major": 2,
       "version_minor": 0
      },
      "text/plain": [
       "Validation: 0it [00:00, ?it/s]"
      ]
     },
     "metadata": {},
     "output_type": "display_data"
    },
    {
     "name": "stderr",
     "output_type": "stream",
     "text": [
      "Epoch 30, global step 229183: 'val_auc' was not in top 1\n"
     ]
    },
    {
     "data": {
      "application/vnd.jupyter.widget-view+json": {
       "model_id": "39da29fec67f4b09a6f1066244206d78",
       "version_major": 2,
       "version_minor": 0
      },
      "text/plain": [
       "Validation: 0it [00:00, ?it/s]"
      ]
     },
     "metadata": {},
     "output_type": "display_data"
    },
    {
     "name": "stderr",
     "output_type": "stream",
     "text": [
      "Epoch 31, global step 236576: 'val_auc' reached 0.77501 (best 0.77501), saving model to 'C:\\\\Users\\\\abhim\\\\ml4sci-tests\\\\vision_transformers\\\\weights\\\\best_weights-v10.ckpt' as top 1\n"
     ]
    },
    {
     "data": {
      "application/vnd.jupyter.widget-view+json": {
       "model_id": "5b0a69970a894f8999d73bb520322da8",
       "version_major": 2,
       "version_minor": 0
      },
      "text/plain": [
       "Validation: 0it [00:00, ?it/s]"
      ]
     },
     "metadata": {},
     "output_type": "display_data"
    },
    {
     "name": "stderr",
     "output_type": "stream",
     "text": [
      "Epoch 32, global step 243969: 'val_auc' was not in top 1\n"
     ]
    },
    {
     "data": {
      "application/vnd.jupyter.widget-view+json": {
       "model_id": "0b0bb1283c2f4396a0524d5498432e63",
       "version_major": 2,
       "version_minor": 0
      },
      "text/plain": [
       "Validation: 0it [00:00, ?it/s]"
      ]
     },
     "metadata": {},
     "output_type": "display_data"
    },
    {
     "name": "stderr",
     "output_type": "stream",
     "text": [
      "Epoch 33, global step 251362: 'val_auc' was not in top 1\n"
     ]
    },
    {
     "data": {
      "application/vnd.jupyter.widget-view+json": {
       "model_id": "840b219fbbce4517af14555cd5730abb",
       "version_major": 2,
       "version_minor": 0
      },
      "text/plain": [
       "Validation: 0it [00:00, ?it/s]"
      ]
     },
     "metadata": {},
     "output_type": "display_data"
    },
    {
     "name": "stderr",
     "output_type": "stream",
     "text": [
      "Epoch 34, global step 258755: 'val_auc' was not in top 1\n"
     ]
    },
    {
     "data": {
      "application/vnd.jupyter.widget-view+json": {
       "model_id": "dfbbca048bc4486c8a184e1de4a0ded4",
       "version_major": 2,
       "version_minor": 0
      },
      "text/plain": [
       "Validation: 0it [00:00, ?it/s]"
      ]
     },
     "metadata": {},
     "output_type": "display_data"
    },
    {
     "name": "stderr",
     "output_type": "stream",
     "text": [
      "Epoch 35, global step 266148: 'val_auc' was not in top 1\n"
     ]
    },
    {
     "data": {
      "application/vnd.jupyter.widget-view+json": {
       "model_id": "5b3bbe993ad84d8abdb7c9730835680e",
       "version_major": 2,
       "version_minor": 0
      },
      "text/plain": [
       "Validation: 0it [00:00, ?it/s]"
      ]
     },
     "metadata": {},
     "output_type": "display_data"
    },
    {
     "name": "stderr",
     "output_type": "stream",
     "text": [
      "Epoch 36, global step 273541: 'val_auc' reached 0.77557 (best 0.77557), saving model to 'C:\\\\Users\\\\abhim\\\\ml4sci-tests\\\\vision_transformers\\\\weights\\\\best_weights-v10.ckpt' as top 1\n"
     ]
    },
    {
     "data": {
      "application/vnd.jupyter.widget-view+json": {
       "model_id": "a31ce9db07b342ac9d2eae951fc08138",
       "version_major": 2,
       "version_minor": 0
      },
      "text/plain": [
       "Validation: 0it [00:00, ?it/s]"
      ]
     },
     "metadata": {},
     "output_type": "display_data"
    },
    {
     "name": "stderr",
     "output_type": "stream",
     "text": [
      "Epoch 37, global step 280934: 'val_auc' was not in top 1\n"
     ]
    },
    {
     "data": {
      "application/vnd.jupyter.widget-view+json": {
       "model_id": "37b3f11284d044f9a63f3697fdd5d57f",
       "version_major": 2,
       "version_minor": 0
      },
      "text/plain": [
       "Validation: 0it [00:00, ?it/s]"
      ]
     },
     "metadata": {},
     "output_type": "display_data"
    },
    {
     "name": "stderr",
     "output_type": "stream",
     "text": [
      "Epoch 38, global step 288327: 'val_auc' reached 0.77648 (best 0.77648), saving model to 'C:\\\\Users\\\\abhim\\\\ml4sci-tests\\\\vision_transformers\\\\weights\\\\best_weights-v10.ckpt' as top 1\n"
     ]
    },
    {
     "data": {
      "application/vnd.jupyter.widget-view+json": {
       "model_id": "042b426729744616b1dd115685def37d",
       "version_major": 2,
       "version_minor": 0
      },
      "text/plain": [
       "Validation: 0it [00:00, ?it/s]"
      ]
     },
     "metadata": {},
     "output_type": "display_data"
    },
    {
     "name": "stderr",
     "output_type": "stream",
     "text": [
      "Epoch 39, global step 295720: 'val_auc' was not in top 1\n"
     ]
    },
    {
     "data": {
      "application/vnd.jupyter.widget-view+json": {
       "model_id": "fabbf6e9103c45d0845814d674329b79",
       "version_major": 2,
       "version_minor": 0
      },
      "text/plain": [
       "Validation: 0it [00:00, ?it/s]"
      ]
     },
     "metadata": {},
     "output_type": "display_data"
    },
    {
     "name": "stderr",
     "output_type": "stream",
     "text": [
      "Epoch 40, global step 303113: 'val_auc' was not in top 1\n"
     ]
    },
    {
     "data": {
      "application/vnd.jupyter.widget-view+json": {
       "model_id": "90f41d641e7845a08d804cb63d91864a",
       "version_major": 2,
       "version_minor": 0
      },
      "text/plain": [
       "Validation: 0it [00:00, ?it/s]"
      ]
     },
     "metadata": {},
     "output_type": "display_data"
    },
    {
     "name": "stderr",
     "output_type": "stream",
     "text": [
      "Epoch 41, global step 310506: 'val_auc' was not in top 1\n"
     ]
    },
    {
     "data": {
      "application/vnd.jupyter.widget-view+json": {
       "model_id": "f1ef59e2d1354d87824b1c5f033ca0e0",
       "version_major": 2,
       "version_minor": 0
      },
      "text/plain": [
       "Validation: 0it [00:00, ?it/s]"
      ]
     },
     "metadata": {},
     "output_type": "display_data"
    },
    {
     "name": "stderr",
     "output_type": "stream",
     "text": [
      "Epoch 42, global step 317899: 'val_auc' was not in top 1\n"
     ]
    },
    {
     "data": {
      "application/vnd.jupyter.widget-view+json": {
       "model_id": "e0e5bc02339d4f0cbca813deb53e1074",
       "version_major": 2,
       "version_minor": 0
      },
      "text/plain": [
       "Validation: 0it [00:00, ?it/s]"
      ]
     },
     "metadata": {},
     "output_type": "display_data"
    },
    {
     "name": "stderr",
     "output_type": "stream",
     "text": [
      "Epoch 43, global step 325292: 'val_auc' reached 0.77841 (best 0.77841), saving model to 'C:\\\\Users\\\\abhim\\\\ml4sci-tests\\\\vision_transformers\\\\weights\\\\best_weights-v10.ckpt' as top 1\n"
     ]
    },
    {
     "data": {
      "application/vnd.jupyter.widget-view+json": {
       "model_id": "b4421ca45ef84e52afeb8e1c02547971",
       "version_major": 2,
       "version_minor": 0
      },
      "text/plain": [
       "Validation: 0it [00:00, ?it/s]"
      ]
     },
     "metadata": {},
     "output_type": "display_data"
    },
    {
     "name": "stderr",
     "output_type": "stream",
     "text": [
      "Epoch 44, global step 332685: 'val_auc' was not in top 1\n"
     ]
    },
    {
     "data": {
      "application/vnd.jupyter.widget-view+json": {
       "model_id": "334b759bb704468baa3ee2a5f51f3887",
       "version_major": 2,
       "version_minor": 0
      },
      "text/plain": [
       "Validation: 0it [00:00, ?it/s]"
      ]
     },
     "metadata": {},
     "output_type": "display_data"
    },
    {
     "name": "stderr",
     "output_type": "stream",
     "text": [
      "Epoch 45, global step 340078: 'val_auc' was not in top 1\n"
     ]
    },
    {
     "data": {
      "application/vnd.jupyter.widget-view+json": {
       "model_id": "1aea92a1b93045569ffc947a70b7f166",
       "version_major": 2,
       "version_minor": 0
      },
      "text/plain": [
       "Validation: 0it [00:00, ?it/s]"
      ]
     },
     "metadata": {},
     "output_type": "display_data"
    },
    {
     "name": "stderr",
     "output_type": "stream",
     "text": [
      "Epoch 46, global step 347471: 'val_auc' was not in top 1\n"
     ]
    },
    {
     "data": {
      "application/vnd.jupyter.widget-view+json": {
       "model_id": "e488f3cbb088475d9e95b20ac6b41532",
       "version_major": 2,
       "version_minor": 0
      },
      "text/plain": [
       "Validation: 0it [00:00, ?it/s]"
      ]
     },
     "metadata": {},
     "output_type": "display_data"
    },
    {
     "name": "stderr",
     "output_type": "stream",
     "text": [
      "Epoch 47, global step 354864: 'val_auc' reached 0.77895 (best 0.77895), saving model to 'C:\\\\Users\\\\abhim\\\\ml4sci-tests\\\\vision_transformers\\\\weights\\\\best_weights-v10.ckpt' as top 1\n"
     ]
    },
    {
     "data": {
      "application/vnd.jupyter.widget-view+json": {
       "model_id": "8ba16573a4d946389bdf49f3099b1131",
       "version_major": 2,
       "version_minor": 0
      },
      "text/plain": [
       "Validation: 0it [00:00, ?it/s]"
      ]
     },
     "metadata": {},
     "output_type": "display_data"
    },
    {
     "name": "stderr",
     "output_type": "stream",
     "text": [
      "Epoch 48, global step 362257: 'val_auc' reached 0.78040 (best 0.78040), saving model to 'C:\\\\Users\\\\abhim\\\\ml4sci-tests\\\\vision_transformers\\\\weights\\\\best_weights-v10.ckpt' as top 1\n"
     ]
    },
    {
     "data": {
      "application/vnd.jupyter.widget-view+json": {
       "model_id": "bd15d2b4b18f40d8b527b174f0428970",
       "version_major": 2,
       "version_minor": 0
      },
      "text/plain": [
       "Validation: 0it [00:00, ?it/s]"
      ]
     },
     "metadata": {},
     "output_type": "display_data"
    },
    {
     "name": "stderr",
     "output_type": "stream",
     "text": [
      "Epoch 49, global step 369650: 'val_auc' was not in top 1\n",
      "`Trainer.fit` stopped: `max_epochs=50` reached.\n"
     ]
    }
   ],
   "source": [
    "ckpt_callback = ModelCheckpoint(\n",
    "    dirpath=weights_dir,\n",
    "    filename='best_weights',\n",
    "    save_top_k=1,\n",
    "    verbose=True,\n",
    "    monitor='val_auc',\n",
    "    mode='max',\n",
    "    save_weights_only=True\n",
    ")\n",
    "logger = CSVLogger(save_dir=logs_dir, name='lightning_logs')\n",
    "trainer = pl.Trainer(\n",
    "    accelerator='gpu',\n",
    "    max_epochs=epochs,\n",
    "    callbacks=[ckpt_callback],\n",
    "    enable_progress_bar=True,\n",
    "    logger=logger,\n",
    "    devices = 1\n",
    ")\n",
    "lightning_module = ParticleClassifierLightning()\n",
    "trainer.fit(lightning_module, train_loader, val_loader)"
   ]
  },
  {
   "attachments": {},
   "cell_type": "markdown",
   "metadata": {},
   "source": [
    "## Plot learning curves\n",
    "\n",
    "### The model does not ovefit"
   ]
  },
  {
   "cell_type": "code",
   "execution_count": 9,
   "metadata": {},
   "outputs": [
    {
     "data": {
      "image/png": "[encoded data removed]",
      "text/plain": [
       "<Figure size 1000x500 with 2 Axes>"
      ]
     },
     "metadata": {},
     "output_type": "display_data"
    }
   ],
   "source": [
    "def plot_learning_curves(file_path):\n",
    "\n",
    "  # Read the CSV file into a pandas DataFrame\n",
    "  df = pd.read_csv(file_path, header=0)\n",
    "\n",
    "  # Preprocess the CSV file\n",
    "  epochs = np.unique(df['epoch'].dropna().values)\n",
    "  val_loss = df['val_loss'].dropna().values\n",
    "  val_auc = df['val_auc'].dropna().values\n",
    "  train_loss = df['train_loss'].dropna().values\n",
    "  train_auc = df['train_auc'].dropna().values\n",
    "\n",
    "  # Create the side-by-side plots\n",
    "  fig, (ax1, ax2) = plt.subplots(1, 2, figsize=(10, 5))\n",
    "\n",
    "  # Plot train and validation AUC vs epochs\n",
    "  ax1.plot(epochs, train_auc, label='Train AUC')\n",
    "  ax1.plot(epochs, val_auc, label='Validation AUC')\n",
    "  ax1.set_xlabel('Epochs')\n",
    "  ax1.set_ylabel('AUC')\n",
    "  ax1.set_title('Train and Validation AUC vs Epochs')\n",
    "  ax1.legend()\n",
    "\n",
    "  # Plot train and validation loss vs epochs\n",
    "  ax2.plot(epochs, train_loss, label='Train Loss')\n",
    "  ax2.plot(epochs, val_loss, label='Validation Loss')\n",
    "  ax2.set_xlabel('Epochs')\n",
    "  ax2.set_ylabel('Loss')\n",
    "  ax2.set_title('Train and Validation Loss vs Epochs')\n",
    "  ax2.legend()\n",
    "\n",
    "  plt.show()\n",
    "\n",
    "plot_learning_curves(file_path = logs_dir + '/lightning_logs/version_0/metrics.csv')"
   ]
  },
  {
   "attachments": {},
   "cell_type": "markdown",
   "metadata": {},
   "source": [
    "## Plot results on test set(ViT vs CNN)\n",
    "\n",
    "### The model gives us a decent AUC = 76 on the test set but it is less than the CNNs AUC = 0.81 on the test set as seen earlier."
   ]
  },
  {
   "cell_type": "code",
   "execution_count": 8,
   "metadata": {},
   "outputs": [
    {
     "name": "stdout",
     "output_type": "stream",
     "text": [
      "ViT model:\n"
     ]
    },
    {
     "data": {
      "image/png": "[encoded data removed]",
      "text/plain": [
       "<Figure size 640x480 with 1 Axes>"
      ]
     },
     "metadata": {},
     "output_type": "display_data"
    },
    {
     "name": "stdout",
     "output_type": "stream",
     "text": [
      "390/390 [==============================] - 8s 3ms/step\n",
      "CNN model:\n"
     ]
    },
    {
     "data": {
      "image/png": "[encoded data removed]",
      "text/plain": [
       "<Figure size 640x480 with 1 Axes>"
      ]
     },
     "metadata": {},
     "output_type": "display_data"
    }
   ],
   "source": [
    "def plot_ROC_AUC(y_true = None, y_pred = None, precision = 4):\n",
    "  \n",
    "  fpr, tpr, _ = roc_curve(y_true, y_pred)\n",
    "  roc_auc = auc(fpr, tpr)\n",
    "  plt.figure()\n",
    "  plt.plot(fpr, tpr, color='darkorange', lw=2, label='ROC curve (AUC = %0.{}f)'.format(precision) % roc_auc)\n",
    "  plt.plot([0, 1], [0, 1], color='navy', lw=2, linestyle='--', label = 'Random Guessing (AUC = 0.5)')\n",
    "  plt.xlim([0.0, 1.0])\n",
    "  plt.ylim([0.0, 1.0])\n",
    "  plt.xlabel('False Positive Rate')\n",
    "  plt.ylabel('True Positive Rate')\n",
    "  plt.title('Receiver operating characteristic')\n",
    "  plt.legend(loc=\"lower right\")\n",
    "  plt.show()\n",
    "\n",
    "def get_tflow_model():\n",
    "    \n",
    "  model = tf.keras.Sequential([\n",
    "    tf.keras.layers.Conv2D(16, (3, 3), activation='relu', input_shape=(32,32,2)),\n",
    "    tf.keras.layers.Conv2D(16, (3, 3), activation='relu'),\n",
    "    tf.keras.layers.MaxPooling2D((2, 2)),\n",
    "    tf.keras.layers.Conv2D(32, (3, 3), activation='relu'),\n",
    "    tf.keras.layers.MaxPooling2D((2, 2)),\n",
    "    tf.keras.layers.Conv2D(32, (3, 3), activation='relu'),\n",
    "    tf.keras.layers.MaxPooling2D((2, 2)),\n",
    "    tf.keras.layers.Dropout(0.25),\n",
    "    tf.keras.layers.Flatten(),\n",
    "    tf.keras.layers.Dense(96, activation='relu'),\n",
    "    tf.keras.layers.Dropout(0.25),\n",
    "    tf.keras.layers.Dense(16, activation='relu'),\n",
    "    tf.keras.layers.Dropout(0.25),\n",
    "    tf.keras.layers.Dense(1, activation='sigmoid')\n",
    "  ])\n",
    "  return model\n",
    "\n",
    "best_model = ParticleClassifierLightning.load_from_checkpoint(\n",
    "    checkpoint_path = weights_dir+'/best_weights-v10.ckpt'\n",
    ")\n",
    "best_model.eval()\n",
    "predicitions = best_model(torch.from_numpy(X_test).permute(0,3,1,2))\n",
    "predicitions = predicitions.detach().numpy()\n",
    "print('ViT model:')\n",
    "plot_ROC_AUC(y_test, predicitions, precision=2)\n",
    "\n",
    "tf_model = get_tflow_model()\n",
    "tf_model.load_weights('../common_task_1/weights_tf/best_weights')\n",
    "predicitions = tf_model.predict(X_test)\n",
    "print('CNN model:')\n",
    "plot_ROC_AUC(y_test, predicitions, precision=2)"
   ]
  },
  {
   "attachments": {},
   "cell_type": "markdown",
   "metadata": {},
   "source": [
    "## Discussion\n",
    "\n",
    "### In this experiment, we compared the performance of a Vision Transformer (ViT) and a Convolutional Neural Network (CNN) for particle identification tasks in the context of the CMS experiment at the Large Hadron Collider. The ViT model, with 1.5 million parameters, achieved an AUC of 0.76 on the test set, while the CNN model, with 30.5K parameters, achieved an AUC of 0.81 on the same test set. Notably, both models exhibited no overfitting, and the training set contained 473,100 samples.\n",
    "\n",
    "The observed difference in performance between the ViT and CNN models can be attributed to the fundamental differences in their architectures and how they learn features:-\n",
    "\n",
    "### Convolutional Neural Networks (CNNs):\n",
    "\n",
    "CNNs are designed to exploit the spatial structure of input data, such as images, through a series of convolutional layers followed by non-linear activation functions. A typical convolution operation can be represented as:\n",
    "\n",
    "Y(i, j) = ΣΣ(X(i + m, j + n) * K(m, n))\n",
    "\n",
    "Here, Y(i, j) is the output feature map, X(i + m, j + n) is the input feature map, and K(m, n) is the kernel or filter, whose parameters are learned during training. The summations are performed over the kernel dimensions, m and n.\n",
    "\n",
    "CNNs learn hierarchical representations by stacking multiple convolutional layers. This enables them to capture local features in the early layers and progressively learn higher-level abstractions in deeper layers. Theis results in inductive biases in CNNs, such as local connectivity and weight sharing, make them well-suited for grid-like data and contribute to their sample efficiency.\n",
    "\n",
    "### Vision Transformers (ViTs):\n",
    "\n",
    "ViTs, based on the Transformer architecture, treat input images as sequences of fixed-size patches. Each patch is flattened and linearly embedded into a fixed-dimensional vector:\n",
    "\n",
    "z_i = MLP(x_i)\n",
    "\n",
    "Here, z_i is the embedded vector for the i-th patch, x_i is the i-th input patch, and MLP is a multi-layer perceptron. After obtaining the embedded vectors z_i for each patch in the Vision Transformer (ViT), they are combined with positional encodings to incorporate information about the spatial position of each patch.The resulting vectors are then used as input to the Transformer layers.\n",
    "\n",
    "ViTs leverage self-attention mechanisms to capture global context and long-range dependencies across patches. The core component of self-attention is the scaled dot-product attention, which can be computed as:\n",
    "\n",
    "Attention(Q, K, V) = softmax(QK^T / √d) * V\n",
    "\n",
    "Here, Q, K, and V are the query, key, and value matrices, respectively, which are learned during training and d is the dimension of the queries and keys.\n",
    "\n",
    "The absence of explicit inductive biases in ViTs can make them less effective in capturing local features compared to CNNs. However, their ability to model global context can be advantageous in certain tasks, particularly when large training datasets are available.\n",
    "\n",
    "To summarize, CNNs have an advanatge where you might not have much data to train on or you might not be able to perform transfer learning, such as in this case where:\n",
    "\n",
    "a.there are not enough samples for the ViT to capture strong representations using global self attention and \n",
    "\n",
    "b.there is a lack of similarity between the tasks of publicly available pre-trained ViT weights and the task of particle identification making it unsuitable for fine-tuning. \n",
    "\n",
    "In situations where you can expect transfer learning to work well, ViTs can be a good choice. CNNs have a very powerful and useful inductive bias of the convolution operation and this is useful in limited data setting. Because ViT don't have this inductive bias, they are not as good as CNNs in limited data setting. [Reference](https://www.youtube.com/watch?v=htnJxcwJqeA&t=2236s)\n",
    "\n",
    "This highlights the importance of carefully considering the choice of model architecture and its suitability for the specific problem and dataset. Future work could explore architectural modifications, data augmentation techniques, or pretraining strategies to improve the performance of the ViT model in this setting.\n",
    "\n",
    "\n",
    "Although, one area where ViTs do outperform CNNs is in their robustness and generalizability in the presence of perturbations like Gausian noise. [Reference](https://arxiv.org/abs/2105.07581). This is demonstrated below:-"
   ]
  },
  {
   "attachments": {},
   "cell_type": "markdown",
   "metadata": {},
   "source": [
    "Let us add Gaussian noise to the test set and comapre the performance of the CNN and ViT models on the noisy test set."
   ]
  },
  {
   "cell_type": "code",
   "execution_count": 9,
   "metadata": {},
   "outputs": [],
   "source": [
    "def add_gaussian_noise(X, mean=0, std_factor=0.1):\n",
    "  max_value = np.max(X)\n",
    "  std = std_factor * max_value\n",
    "  noise = np.random.normal(mean, std, X.shape)\n",
    "  X_noisy = X + noise\n",
    "  return X_noisy.astype(np.float32)\n"
   ]
  },
  {
   "attachments": {},
   "cell_type": "markdown",
   "metadata": {},
   "source": [
    "We find that the ViT model is more robust to noise than the CNN model."
   ]
  },
  {
   "cell_type": "code",
   "execution_count": 11,
   "metadata": {},
   "outputs": [
    {
     "name": "stdout",
     "output_type": "stream",
     "text": [
      "ViT model:\n"
     ]
    },
    {
     "data": {
      "image/png": "[encoded data removed]",
      "text/plain": [
       "<Figure size 640x480 with 1 Axes>"
      ]
     },
     "metadata": {},
     "output_type": "display_data"
    },
    {
     "name": "stdout",
     "output_type": "stream",
     "text": [
      "390/390 [==============================] - 2s 3ms/step\n",
      "CNN model:\n"
     ]
    },
    {
     "data": {
      "image/png": "[encoded data removed]",
      "text/plain": [
       "<Figure size 640x480 with 1 Axes>"
      ]
     },
     "metadata": {},
     "output_type": "display_data"
    }
   ],
   "source": [
    "X_test_noisy = add_gaussian_noise(X_test)\n",
    "predicitions = best_model(torch.from_numpy(X_test_noisy).permute(0,3,1,2))\n",
    "predicitions = predicitions.detach().numpy()\n",
    "print('ViT model:')\n",
    "plot_ROC_AUC(y_test, predicitions, precision=2)\n",
    "\n",
    "predicitions = tf_model.predict(X_test_noisy)\n",
    "print('CNN model:')\n",
    "plot_ROC_AUC(y_test, predicitions, precision=2)"
   ]
  }
 ],
 "metadata": {
  "kernelspec": {
   "display_name": "base",
   "language": "python",
   "name": "python3"
  },
  "language_info": {
   "codemirror_mode": {
    "name": "ipython",
    "version": 3
   },
   "file_extension": ".py",
   "mimetype": "text/x-python",
   "name": "python",
   "nbconvert_exporter": "python",
   "pygments_lexer": "ipython3",
   "version": "3.9.13"
  },
  "orig_nbformat": 4
 },
 "nbformat": 4,
 "nbformat_minor": 2
}
